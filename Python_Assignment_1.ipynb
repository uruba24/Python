{
  "nbformat": 4,
  "nbformat_minor": 0,
  "metadata": {
    "colab": {
      "provenance": [],
      "authorship_tag": "ABX9TyO6pj8swWFjoWNjiJgKpVqP",
      "include_colab_link": true
    },
    "kernelspec": {
      "name": "python3",
      "display_name": "Python 3"
    },
    "language_info": {
      "name": "python"
    }
  },
  "cells": [
    {
      "cell_type": "markdown",
      "metadata": {
        "id": "view-in-github",
        "colab_type": "text"
      },
      "source": [
        "<a href=\"https://colab.research.google.com/github/uruba24/Python/blob/main/Python_Assignment_1.ipynb\" target=\"_parent\"><img src=\"https://colab.research.google.com/assets/colab-badge.svg\" alt=\"Open In Colab\"/></a>"
      ]
    },
    {
      "cell_type": "code",
      "execution_count": null,
      "metadata": {
        "id": "CZWrYabLrfAk"
      },
      "outputs": [],
      "source": []
    },
    {
      "cell_type": "markdown",
      "source": [
        "**Task 1**: Variables and Data Types"
      ],
      "metadata": {
        "id": "f66mXQa3t2Ud"
      }
    },
    {
      "cell_type": "code",
      "source": [
        "# a) Create three variables: one for storing your age (integer), one for your name (string), and one to check if you are a student (Boolean). Print the variables.\n",
        "age = 26\n",
        "name = \"Urooba Aftab\"\n",
        "is_student = True\n",
        "print(\"My age is:\" , age)\n",
        "print(\"My name is:\" , name)\n",
        "print(\"I am a student:\" , is_student)\n"
      ],
      "metadata": {
        "colab": {
          "base_uri": "https://localhost:8080/"
        },
        "id": "NkG2swdvt71u",
        "outputId": "efe6ff8a-342f-445b-d046-18e4aebdf1a1"
      },
      "execution_count": null,
      "outputs": [
        {
          "output_type": "stream",
          "name": "stdout",
          "text": [
            "My age is: 26\n",
            "My name is: Urooba Aftab\n",
            "I am a student: True\n"
          ]
        }
      ]
    },
    {
      "cell_type": "code",
      "source": [
        "#b) Perform the following operations and print the results:\n",
        "#- Add 25 to your age variable.\n",
        "#- Concatenate your name with the string \"Smith\"\n",
        "#- Negate the Boolean variable (if True, make it False, and vice versa).\n",
        "add_age = age + 25\n",
        "concat_name = name + \" Smith\"\n",
        "neg_student = not is_student\n",
        "print(\"My age is:\", add_age)\n",
        "print(\"My name is:\",concat_name)\n",
        "print(\"I am a student:\",neg_student)"
      ],
      "metadata": {
        "colab": {
          "base_uri": "https://localhost:8080/"
        },
        "id": "XpQP0Vthu4Fk",
        "outputId": "71d86ae6-ce93-4f0a-b3c4-6fd2bcd48464"
      },
      "execution_count": null,
      "outputs": [
        {
          "output_type": "stream",
          "name": "stdout",
          "text": [
            "My age is: 51\n",
            "My name is: Urooba Aftab Smith\n",
            "I am a student: False\n"
          ]
        }
      ]
    },
    {
      "cell_type": "markdown",
      "source": [
        "**Task 2:** Expressions and Operators"
      ],
      "metadata": {
        "id": "j88p1_oQw3qE"
      }
    },
    {
      "cell_type": "code",
      "source": [
        "#a) A rectangle has a width of 5.5 units and a height of 3.25 units. Store width and height in variables.\n",
        "#Create a new variable called area and write an expression to calculate the area. Print the area in the output.\n",
        "width = 5.5\n",
        "height = 3.25\n",
        "area = width * height\n",
        "print(\"The area of the rectangle is:\", area, \"units\")"
      ],
      "metadata": {
        "colab": {
          "base_uri": "https://localhost:8080/"
        },
        "id": "2lUeYEZWw6jT",
        "outputId": "b5e7f075-5b4d-426c-cd30-d0bac115d938"
      },
      "execution_count": null,
      "outputs": [
        {
          "output_type": "stream",
          "name": "stdout",
          "text": [
            "The area of the rectangle is: 17.875 units\n"
          ]
        }
      ]
    },
    {
      "cell_type": "code",
      "source": [
        "#b) Take temperature input from user in Celsius. Convert it to Fahrenheit using the formula:\n",
        "#F = (C * 9/5) + 32\n",
        "temperature = input(\"Enter temperature in Celsius:\")\n",
        "temperature = float(temperature)\n",
        "fahrenheit = (temperature * 9/5) + 32\n",
        "print(\"The temperature in fahrenheit is:\" , fahrenheit)"
      ],
      "metadata": {
        "colab": {
          "base_uri": "https://localhost:8080/"
        },
        "id": "SsvQI4Clx6Li",
        "outputId": "d617628c-8cdb-4062-e377-3a3ae38e8fea"
      },
      "execution_count": null,
      "outputs": [
        {
          "output_type": "stream",
          "name": "stdout",
          "text": [
            "Enter temperature in Celsius:45\n",
            "The temperature in fahrenheit is: 113.0\n"
          ]
        }
      ]
    },
    {
      "cell_type": "code",
      "source": [
        "#c)Take radius of the circle as input from user. Calculate the area of a circle with this radius and store\n",
        "#it in a variable called area. Print area at the end of your code.\n",
        "#(Use the formula: area = π * radius^2, where π (pi) is approximately 3.14159).\n",
        "radius = input(\"Enter the radius of the circle:\")\n",
        "radius = float(radius)\n",
        "area = 3.14159 * radius**2\n",
        "print(\"The area of the the circle is:\", area)"
      ],
      "metadata": {
        "colab": {
          "base_uri": "https://localhost:8080/"
        },
        "id": "GWNlOIhHzfd7",
        "outputId": "aa43004c-8dcc-4d32-bdaf-e19680fb066c"
      },
      "execution_count": null,
      "outputs": [
        {
          "output_type": "stream",
          "name": "stdout",
          "text": [
            "Enter the radius of the circle:67\n",
            "The area of the the circle is: 14102.59751\n"
          ]
        }
      ]
    },
    {
      "cell_type": "markdown",
      "source": [
        "**Task 3**: List Manipulation"
      ],
      "metadata": {
        "id": "LSawA4450CKT"
      }
    },
    {
      "cell_type": "code",
      "source": [
        "#a) Create a list called &quot;fruits&quot; containing the following fruits: \"apple\", \"banana\", \"cherry\", \"date\",\"strawberry\", \"fig\", and grape\". Print the list.\n",
        "fruits = [\"apple\", \"banana\", \"cherry\", \"date\", \"strawberry\", \"fig\", \"grape\"]\n",
        "print(fruits)\n",
        "\n",
        "#1. Remove the first and last elements from the \"fruits\" list. Print the updated list.\n",
        "fruits.pop(0)\n",
        "fruits.pop(-1)\n",
        "print(\"updated list:\", fruits)\n",
        "\n",
        "#2. Replace the second to fourth items with [\"kiwi\", \"lemon\", \"mango\"] using list slicing.\n",
        "fruits[1:4] = [\"kiwi\", \"lemon\", \"mango\"]\n",
        "print(\"updated list:\", fruits)\n",
        "\n",
        "#3. Use the len() function to find how many fruits are in the list.\n",
        "print(\"Number of fruits in the list:\", len(fruits))"
      ],
      "metadata": {
        "colab": {
          "base_uri": "https://localhost:8080/"
        },
        "id": "zX1LOeX90Iy9",
        "outputId": "78927ad0-dcd3-455b-e95e-829e0f45653a"
      },
      "execution_count": null,
      "outputs": [
        {
          "output_type": "stream",
          "name": "stdout",
          "text": [
            "['apple', 'banana', 'cherry', 'date', 'strawberry', 'fig', 'grape']\n",
            "updated list: ['banana', 'cherry', 'date', 'strawberry', 'fig']\n",
            "updated list: ['banana', 'kiwi', 'lemon', 'mango', 'fig']\n",
            "Number of fruits in the list: 5\n"
          ]
        }
      ]
    },
    {
      "cell_type": "markdown",
      "source": [
        "**Task 4:** Dictionary Operations"
      ],
      "metadata": {
        "id": "O8VY15du2jaR"
      }
    },
    {
      "cell_type": "code",
      "source": [
        "#a) Create a dictionary named \"capitals\" with three key-value pairs: \"USA\" - \"Washington D.C.\", \"France\" - \"Paris\" and \"Japan\" - \"Tokyo\" Print the dictionary.\n",
        "capitals = {\"USA\": \"Washington D.C.\", \"France\": \"Paris\", \"Japan\": \"Tokyo\"}\n",
        "print(capitals)"
      ],
      "metadata": {
        "colab": {
          "base_uri": "https://localhost:8080/"
        },
        "id": "WCGYERny0-Qv",
        "outputId": "7166e7fb-7567-42f8-9a17-dd3724160ece"
      },
      "execution_count": null,
      "outputs": [
        {
          "output_type": "stream",
          "name": "stdout",
          "text": [
            "{'USA': 'Washington D.C.', 'France': 'Paris', 'Japan': 'Tokyo'}\n"
          ]
        }
      ]
    },
    {
      "cell_type": "code",
      "source": [
        "#b) Add a new country and its capital to the \"capitals\" dictionary. The country is \"Germany\" and the\n",
        "#capital is \"Berlin\" Print the updated dictionary.\n",
        "capitals[\"Germany\"] = \"Berlin\"\n",
        "print(\"Updated Dictionary:\", capitals)"
      ],
      "metadata": {
        "colab": {
          "base_uri": "https://localhost:8080/"
        },
        "id": "h7SveHB-87tS",
        "outputId": "d6044431-0fe6-4a97-c3e8-e3c34e964861"
      },
      "execution_count": null,
      "outputs": [
        {
          "output_type": "stream",
          "name": "stdout",
          "text": [
            "Updated Dictionary: {'USA': 'Washington D.C.', 'France': 'Paris', 'Japan': 'Tokyo', 'Germany': 'Berlin'}\n"
          ]
        }
      ]
    },
    {
      "cell_type": "code",
      "source": [
        "#c) Check if \"France\" exists in the \"capitals\" dictionary. If it does, print \"France\" is in the dictionary, otherwise, print \"France\" is not in the dictionary\n",
        "if(\"France\" in capitals):\n",
        "  print(\"France is in the dictionary\")\n",
        "else:\n",
        "  print(\"France is not in the dictionary\")"
      ],
      "metadata": {
        "colab": {
          "base_uri": "https://localhost:8080/"
        },
        "id": "wx5XD8dA-DzP",
        "outputId": "36896db0-93a1-4be0-cd7c-8b13a6f4eaeb"
      },
      "execution_count": null,
      "outputs": [
        {
          "output_type": "stream",
          "name": "stdout",
          "text": [
            "France is in the dictionary\n"
          ]
        }
      ]
    },
    {
      "cell_type": "markdown",
      "source": [
        "**Task 5:** Comparison Operators, Logical Operators and If/Else:"
      ],
      "metadata": {
        "id": "TGJ85nvzowWb"
      }
    },
    {
      "cell_type": "code",
      "source": [
        "#a) Create a variable called number that takes user input. Write a block of code that checks if the\n",
        "#number is positive or negative. If the number is positive only then further check if it is even or odd.\n",
        "number = int(input(\"Enter a number:\"))\n",
        "if(number > 0 & number % 2 == 0):\n",
        "  print(\"The number is positive and even\")\n",
        "elif(number < 0):\n",
        "  print(\"The number is negative\")\n",
        "else:\n",
        "  print(\"the number is zero\")\n"
      ],
      "metadata": {
        "colab": {
          "base_uri": "https://localhost:8080/"
        },
        "id": "L8TUIGZso1hA",
        "outputId": "c134afcf-e67b-4f9b-891b-813445667495"
      },
      "execution_count": null,
      "outputs": [
        {
          "output_type": "stream",
          "name": "stdout",
          "text": [
            "Enter a number:0\n",
            "the number is zero\n"
          ]
        }
      ]
    },
    {
      "cell_type": "code",
      "source": [
        "#b) Create two variables called age and GPA. Give them values of your choice. Next, write a block of\n",
        "#code to check if a student with this age and GPA is eligible for admission. The following are the conditions:\n",
        "#- The student must be at least 18 years old.\n",
        "#- The student&#39;s GPA must be 3.0 or higher on a scale of 4.0.\n",
        "#Your output should print “Eligible for admission” or “Not eligible for admission”.\n",
        "age = int(input(\"Enter your age:\"))\n",
        "GPA = float(input(\"Enter your GPA:\"))\n",
        "if(age >= 18 and GPA >= 3.0):\n",
        "  print(\"Eligible for admission\")\n",
        "else:\n",
        "  print(\"Not eligible for admission\")\n"
      ],
      "metadata": {
        "colab": {
          "base_uri": "https://localhost:8080/"
        },
        "id": "PqX67VAR9li8",
        "outputId": "f322301d-76cf-4e49-81be-1681458364cd"
      },
      "execution_count": null,
      "outputs": [
        {
          "output_type": "stream",
          "name": "stdout",
          "text": [
            "Enter your age:20\n",
            "Enter your GPA:3.6\n",
            "Eligible for admission\n"
          ]
        }
      ]
    },
    {
      "cell_type": "markdown",
      "source": [
        "**Task 6**: Strings Manipulation"
      ],
      "metadata": {
        "id": "8tenRIAP-DLK"
      }
    },
    {
      "cell_type": "code",
      "source": [
        "#a) Create a string variable containing the following sentence:\n",
        "#\"Python programming is fun and powerful\"\n",
        "string = \"Python programming is fun and powerful\"\n",
        "#Write Python code to do the following and print the results:\n",
        "#1. Find the length of the string.\n",
        "print(\"The length of the string is:\", len(string))\n",
        "#2. Convert the string to uppercase.\n",
        "print(\"The string in uppercase is:\", string.upper())\n",
        "#3. Replace \"fun\" with \"exciting\"\n",
        "print(\"The new string is:\", string.replace(\"fun\", \"exciting\"))\n",
        "#4. Check if the string contains the word \"Python\";\n",
        "if(\"Python\" in string):\n",
        "  print(\"The string contains Python\")\n",
        "else:\n",
        "  print(\"The string doesnot contain Python\")\n",
        "#5. Extract the last word \"powerful\";\n",
        "last_word = string.split()[-1]\n",
        "print(\"The last word is:\", last_word)\n",
        "#6. Remove the word programming from the sentence and print the rest of the sentence.\n",
        "new_string = string.replace(\"programming\", \"\")\n",
        "print(\"the new string is:\", new_string)"
      ],
      "metadata": {
        "colab": {
          "base_uri": "https://localhost:8080/"
        },
        "id": "tgq7O4mY-GLe",
        "outputId": "b2124b60-ccd4-4d8f-c894-c2f8e640d986"
      },
      "execution_count": null,
      "outputs": [
        {
          "output_type": "stream",
          "name": "stdout",
          "text": [
            "The length of the string is: 38\n",
            "The string in uppercase is: PYTHON PROGRAMMING IS FUN AND POWERFUL\n",
            "The new string is: Python programming is exciting and powerful\n",
            "The string contains Python\n",
            "The last word is: powerful\n",
            "the new string is: Python  is fun and powerful\n"
          ]
        }
      ]
    },
    {
      "cell_type": "code",
      "source": [
        "#b) Given the string email = \"user@example.com\", perform the following:\n",
        "email = \"user@example.com\"\n",
        "#1 Extract the username part (everything before the \"@\" symbol).\n",
        "username = email.split(\"@\")[0]\n",
        "print(\"The username in the email-string is:\", username)\n",
        "#2 Extract the domain part (everything after the \"@\" symbol).\n",
        "domain = email.split(\"@\")[1]\n",
        "print(\"The domain in the string is\", domain)\n",
        "#3 Check if the email contains the substring \"example\".\n",
        "if(\"example\" in email):\n",
        "  print(\"The string contains example\")\n",
        "else:\n",
        "  print(\"The string doesnot contain example\")"
      ],
      "metadata": {
        "colab": {
          "base_uri": "https://localhost:8080/"
        },
        "id": "eKbcTfYtGAjj",
        "outputId": "0a5f6faf-3c1c-4106-e522-20c010ce62d1"
      },
      "execution_count": null,
      "outputs": [
        {
          "output_type": "stream",
          "name": "stdout",
          "text": [
            "The username in the email-string is: user\n",
            "The domain in the string is example.com\n",
            "The string contains example\n"
          ]
        }
      ]
    },
    {
      "cell_type": "markdown",
      "source": [
        "**Task 7:** For Loops and While Loops"
      ],
      "metadata": {
        "id": "XmIhzA-HMgkp"
      }
    },
    {
      "cell_type": "markdown",
      "source": [],
      "metadata": {
        "id": "Fhv0xUhbMgff"
      }
    },
    {
      "cell_type": "code",
      "source": [
        "#a) Given a list of temperatures for a week, write a program that tells you how many days were above 25°C.\n",
        "#temp_list = [26, 28, 32, 36, 30, 25, 24, 22, 20, 18]\n",
        "#for temp > 25, print “Today's temp: temp, its hot!”\n",
        "#for temp <= 25, print “Today's temp: temp, it is chilly today!”\n",
        "temp_list = [26, 28, 32, 36, 30, 25, 24, 22, 20, 18]\n",
        "for temp in temp_list:\n",
        "  if(temp > 25):\n",
        "   print(\"Today's temp:\", temp, \"its's hot today!\")\n",
        "  elif(temp <= 25):\n",
        "   print(\"Today's temp:\", temp, \"it's chilly today!\")\n",
        "  else:\n",
        "   print(\"Its humid today!\")"
      ],
      "metadata": {
        "colab": {
          "base_uri": "https://localhost:8080/"
        },
        "id": "lvZGbfXoM5qx",
        "outputId": "37a43cdb-4426-420a-e4fd-0c0c1a8a704f"
      },
      "execution_count": 16,
      "outputs": [
        {
          "output_type": "stream",
          "name": "stdout",
          "text": [
            "Today's temp: 26 its's hot today!\n",
            "Today's temp: 28 its's hot today!\n",
            "Today's temp: 32 its's hot today!\n",
            "Today's temp: 36 its's hot today!\n",
            "Today's temp: 30 its's hot today!\n",
            "Today's temp: 25 it's chilly today!\n",
            "Today's temp: 24 it's chilly today!\n",
            "Today's temp: 22 it's chilly today!\n",
            "Today's temp: 20 it's chilly today!\n",
            "Today's temp: 18 it's chilly today!\n"
          ]
        }
      ]
    },
    {
      "cell_type": "code",
      "source": [
        "#b) Use a for loop and the range() function to display following sequences:\n",
        "#1. Add to list: [-20, -17, -14, -11, -8, -5, -2, 1, 4, 7, 10, 13, 16, 19, 22, 25, 28]\n",
        "list1 = []\n",
        "for i in range(-20, 29, 3):\n",
        "  list1.append(i)\n",
        "print(\"List1 =\", list1)\n",
        "#2. Add to list: [110, 112, 114, 116, 118, 120, 122, 124, 126, 128]\n",
        "list2 = []\n",
        "for i in range(110, 130, 2):\n",
        "  list2.append(i)\n",
        "print(\"List2 =\", list2)\n",
        "#3. Print: Multiples of 7 starting from 5 and less than 100.\n",
        "list3 = []\n",
        "for i in range(5,100):\n",
        "  if(i % 7 == 0):\n",
        "   list3.append(i)\n",
        "print(\"List3 =\", list3)\n",
        "#4. Print: The first 20 Fibonacci numbers.\n",
        "list4 = []\n",
        "a, b = 0, 1\n",
        "for i in range(20):\n",
        "  list4.append(a)\n",
        "  a, b = b, a + b\n",
        "  print(\"List4 under for loop = \",list4)\n",
        "print(\"List4 =\",list4)\n",
        "\n"
      ],
      "metadata": {
        "colab": {
          "base_uri": "https://localhost:8080/"
        },
        "id": "JRBjfrLDSU9J",
        "outputId": "fb9d6b37-ddbb-479b-e184-85d2e1bb7ca3"
      },
      "execution_count": 26,
      "outputs": [
        {
          "output_type": "stream",
          "name": "stdout",
          "text": [
            "List1 = [-20, -17, -14, -11, -8, -5, -2, 1, 4, 7, 10, 13, 16, 19, 22, 25, 28]\n",
            "List2 = [110, 112, 114, 116, 118, 120, 122, 124, 126, 128]\n",
            "List3 = [7, 14, 21, 28, 35, 42, 49, 56, 63, 70, 77, 84, 91, 98]\n",
            "List4 under for loop =  [0]\n",
            "List4 under for loop =  [0, 1]\n",
            "List4 under for loop =  [0, 1, 1]\n",
            "List4 under for loop =  [0, 1, 1, 2]\n",
            "List4 under for loop =  [0, 1, 1, 2, 3]\n",
            "List4 under for loop =  [0, 1, 1, 2, 3, 5]\n",
            "List4 under for loop =  [0, 1, 1, 2, 3, 5, 8]\n",
            "List4 under for loop =  [0, 1, 1, 2, 3, 5, 8, 13]\n",
            "List4 under for loop =  [0, 1, 1, 2, 3, 5, 8, 13, 21]\n",
            "List4 under for loop =  [0, 1, 1, 2, 3, 5, 8, 13, 21, 34]\n",
            "List4 under for loop =  [0, 1, 1, 2, 3, 5, 8, 13, 21, 34, 55]\n",
            "List4 under for loop =  [0, 1, 1, 2, 3, 5, 8, 13, 21, 34, 55, 89]\n",
            "List4 under for loop =  [0, 1, 1, 2, 3, 5, 8, 13, 21, 34, 55, 89, 144]\n",
            "List4 under for loop =  [0, 1, 1, 2, 3, 5, 8, 13, 21, 34, 55, 89, 144, 233]\n",
            "List4 under for loop =  [0, 1, 1, 2, 3, 5, 8, 13, 21, 34, 55, 89, 144, 233, 377]\n",
            "List4 under for loop =  [0, 1, 1, 2, 3, 5, 8, 13, 21, 34, 55, 89, 144, 233, 377, 610]\n",
            "List4 under for loop =  [0, 1, 1, 2, 3, 5, 8, 13, 21, 34, 55, 89, 144, 233, 377, 610, 987]\n",
            "List4 under for loop =  [0, 1, 1, 2, 3, 5, 8, 13, 21, 34, 55, 89, 144, 233, 377, 610, 987, 1597]\n",
            "List4 under for loop =  [0, 1, 1, 2, 3, 5, 8, 13, 21, 34, 55, 89, 144, 233, 377, 610, 987, 1597, 2584]\n",
            "List4 under for loop =  [0, 1, 1, 2, 3, 5, 8, 13, 21, 34, 55, 89, 144, 233, 377, 610, 987, 1597, 2584, 4181]\n",
            "List4 = [0, 1, 1, 2, 3, 5, 8, 13, 21, 34, 55, 89, 144, 233, 377, 610, 987, 1597, 2584, 4181]\n"
          ]
        }
      ]
    },
    {
      "cell_type": "code",
      "source": [
        "#c) Use nested loops to display the following pattern.\n",
        "#*\n",
        "#**\n",
        "#***\n",
        "#****\n",
        "#*****\n",
        "#******\n",
        "for i in range(1, 7):\n",
        "  for j in range(i):\n",
        "    print(\"*\", end=\"\")\n",
        "  print()"
      ],
      "metadata": {
        "colab": {
          "base_uri": "https://localhost:8080/"
        },
        "id": "LZ-9AjL6Xpyf",
        "outputId": "ca748c59-3d51-4f0b-d7be-4e20dd727722"
      },
      "execution_count": 27,
      "outputs": [
        {
          "output_type": "stream",
          "name": "stdout",
          "text": [
            "*\n",
            "**\n",
            "***\n",
            "****\n",
            "*****\n",
            "******\n"
          ]
        }
      ]
    },
    {
      "cell_type": "code",
      "source": [
        "#d) Write a nested loop through the given list to find pair of numbers that sum to a given value.\n",
        "#numbers = [6, 8, 2, 4, 6, 10]\n",
        "#target_sum = 12\n",
        "#Save and print the pairs in tuples.\n",
        "numbers_list = [6, 8, 2, 4, 6, 10]\n",
        "target_sum = 12\n",
        "pairs = []\n",
        "for i in range(len(numbers_list)):\n",
        "  for j in range(i + 1, len(numbers_list)):\n",
        "    if(numbers_list[i] + numbers_list[j] == target_sum):\n",
        "      pairs.append((numbers_list[i], numbers_list[j]))\n",
        "print(\"pairs:\", pairs)"
      ],
      "metadata": {
        "colab": {
          "base_uri": "https://localhost:8080/"
        },
        "id": "J2byeenVZFXh",
        "outputId": "ad71588f-0f8e-4736-f6fc-0f36be7a6a0c"
      },
      "execution_count": 29,
      "outputs": [
        {
          "output_type": "stream",
          "name": "stdout",
          "text": [
            "pairs: [(6, 6), (8, 4), (2, 10)]\n"
          ]
        }
      ]
    },
    {
      "cell_type": "code",
      "source": [
        "#e) A student obtains the following grades in his courses. Make a list of his scores and write a loop to\n",
        "#sum up his total score. Also, calculate his percentage.\n",
        "\n",
        "#Courses     Scores out of 100\n",
        "#Mathematics              78\n",
        "#Programming              82\n",
        "#Biology                  65\n",
        "#Physics                  80\n",
        "#Chemistry                50\n",
        "scores = [78, 82, 65, 80, 50]\n",
        "for score in scores:\n",
        "  total_score = sum(scores)\n",
        "print(\"Total score:\", total_score)\n",
        "percentage = (total_score / (len(scores)*100))*100\n",
        "print(\"Percentage = \", percentage)\n",
        "\n",
        "#Next, use python dictionary to assign grades to the student according to the following table:\n",
        "\n",
        "#Percentage   Grade\n",
        "#90-100         A\n",
        "#80-89          B+\n",
        "#60-79          B\n",
        "#40-59          C\n",
        "#39 and below   F\n",
        "grades = {'99':'A', '89':'B+', '60':'B', '40':'C', '30':'F'}\n",
        "if(percentage >= 90):\n",
        "  print(\"Grade:\", grades['99'])\n",
        "elif(percentage >= 80):\n",
        "  print(\"Grade:\", grades['89'])\n",
        "elif(percentage >= 60):\n",
        "  print(\"Grade:\", grades['60'])\n",
        "elif(percentage >= 40):\n",
        "  print(\"Grade:\", grades['40'])\n",
        "elif(percentage >= 30):\n",
        "  print(\"Grade:\", grades['30'])\n",
        "else:\n",
        "   print(\"Enter valid percentage\")\n",
        "\n",
        "\n"
      ],
      "metadata": {
        "colab": {
          "base_uri": "https://localhost:8080/"
        },
        "id": "3uaiQ7tLlded",
        "outputId": "d0b47e71-be98-4776-dd68-7e0585d42471"
      },
      "execution_count": 41,
      "outputs": [
        {
          "output_type": "stream",
          "name": "stdout",
          "text": [
            "Total score: 355\n",
            "Percentage =  71.0\n",
            "Grade: B\n"
          ]
        }
      ]
    },
    {
      "cell_type": "markdown",
      "source": [
        "**Task 8:** Functions:"
      ],
      "metadata": {
        "id": "-nD3g8UV68Xe"
      }
    },
    {
      "cell_type": "code",
      "source": [
        "#a) Write a function called calculate_area that takes the length and width of a rectangle and returns its area.\n",
        "def calculate_area(length, width):\n",
        "  area = length * width\n",
        "  return area;\n",
        "length = float(input(\"Enter length:\"))\n",
        "width = float(input(\"Enter width:\"))\n",
        "area = calculate_area(length, width)\n",
        "print(\"Area of the rectangle is:\", area)"
      ],
      "metadata": {
        "colab": {
          "base_uri": "https://localhost:8080/"
        },
        "id": "BjbmrdZG7HIx",
        "outputId": "113d26a3-6c12-4056-c006-6763e622d39e"
      },
      "execution_count": 52,
      "outputs": [
        {
          "output_type": "stream",
          "name": "stdout",
          "text": [
            "Enter length:5.5\n",
            "Enter width:6.7\n",
            "Area of the rectangle is: 36.85\n"
          ]
        }
      ]
    },
    {
      "cell_type": "code",
      "source": [
        "#b) Write a Python function to find the max of three numbers entered by the user.\n",
        "def find_max(num1, num2, num3):\n",
        "  if(num1 > num2 and num1 > num3):\n",
        "    return num1\n",
        "  elif(num2 > num1 and num2 > num3):\n",
        "    return num2\n",
        "  else:\n",
        "    return num3\n",
        "\n",
        "num1 = int(input(\"Enter first number:\"))\n",
        "num2 = int(input(\"Enter second number:\"))\n",
        "num3 = int(input(\"Enter third number:\"))\n",
        "max_num = find_max(num1, num2, num3)\n",
        "print(\"Maximum number is:\", max_num)"
      ],
      "metadata": {
        "colab": {
          "base_uri": "https://localhost:8080/"
        },
        "id": "yY6yA3uH9VUI",
        "outputId": "3b5c48da-bdd4-488b-d7bf-5e797e022fa7"
      },
      "execution_count": 54,
      "outputs": [
        {
          "output_type": "stream",
          "name": "stdout",
          "text": [
            "Enter first number:2\n",
            "Enter second number:6\n",
            "Enter third number:10\n",
            "Maximum number is: 10\n"
          ]
        }
      ]
    },
    {
      "cell_type": "code",
      "source": [
        "#c) Create a basic calculator program that can perform addition, subtraction, multiplication, and\n",
        "#division operations. Ask the user to input 2 numbers and the operation they want to perform. Print\n",
        "#result accordingly.\n",
        "def add(num1, num2):\n",
        "  return num1 + num2\n",
        "def sub(num1, num2):\n",
        "  return num1 - num2\n",
        "def multiply(num1, num2):\n",
        "  return num1 * num2\n",
        "def divide(num1, num2):\n",
        "  return num1 / num2\n",
        "\n",
        "num1 = int(input(\"Enter first number:\"))\n",
        "num2 = int(input(\"Enter second number:\"))\n",
        "operator = input(\"Enter operator:\")\n",
        "if(operator == \"+\"):\n",
        "  add = add(num1,num2)\n",
        "  print(\"Addition:\", add)\n",
        "elif(operator == \"-\"):\n",
        "  sub = sub(num1, num2)\n",
        "  print(\"Subtraction:\", sub)\n",
        "elif(operator == \"*\"):\n",
        "  multiply = multiply(num1,num2)\n",
        "  print(\"Multiplication:\", multiply)\n",
        "elif(operator == \"/\"):\n",
        "  divide = divide(num1, num2)\n",
        "  print(\"Division\", divide)\n",
        "else:\n",
        "  print(\"enter correct operator!\")"
      ],
      "metadata": {
        "colab": {
          "base_uri": "https://localhost:8080/"
        },
        "id": "6NtFGdL1_eCr",
        "outputId": "4d9fa093-dca1-440e-c937-a51df7e25f6f"
      },
      "execution_count": 62,
      "outputs": [
        {
          "output_type": "stream",
          "name": "stdout",
          "text": [
            "Enter first number:4\n",
            "Enter second number:2\n",
            "Enter operator:*\n",
            "Multiplication: 8\n"
          ]
        }
      ]
    }
  ]
}